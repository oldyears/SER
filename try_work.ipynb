{
 "cells": [
  {
   "cell_type": "markdown",
   "metadata": {},
   "source": [
    "## 对预测和训练过程中的数据可视化\n",
    "Importing the required libraries"
   ]
  },
  {
   "cell_type": "code",
   "execution_count": 1,
   "metadata": {
    "execution": {
     "iopub.execute_input": "2023-12-28T02:10:40.750753Z",
     "iopub.status.busy": "2023-12-28T02:10:40.750303Z",
     "iopub.status.idle": "2023-12-28T02:10:46.340774Z",
     "shell.execute_reply": "2023-12-28T02:10:46.339853Z",
     "shell.execute_reply.started": "2023-12-28T02:10:40.750726Z"
    },
    "tags": []
   },
   "outputs": [],
   "source": [
    "import os\n",
    "import numpy as np\n",
    "import extract_feats.opensmile as of\n",
    "import extract_feats.librosa as lf\n",
    "import models\n",
    "import utils"
   ]
  },
  {
   "cell_type": "markdown",
   "metadata": {},
   "source": [
    "开始预测"
   ]
  },
  {
   "cell_type": "code",
   "execution_count": 6,
   "metadata": {
    "ExecutionIndicator": {
     "show": true
    },
    "execution": {
     "iopub.execute_input": "2023-12-28T02:11:44.171525Z",
     "iopub.status.busy": "2023-12-28T02:11:44.171029Z",
     "iopub.status.idle": "2023-12-28T02:11:44.182486Z",
     "shell.execute_reply": "2023-12-28T02:11:44.181392Z",
     "shell.execute_reply.started": "2023-12-28T02:11:44.171495Z"
    },
    "tags": []
   },
   "outputs": [
    {
     "name": "stderr",
     "output_type": "stream",
     "text": [
      "usage: ipykernel_launcher.py [-h] [--config CONFIG]\n",
      "ipykernel_launcher.py: error: unrecognized arguments: -f /root/.local/share/jupyter/runtime/kernel-d7c9deea-8b15-4da3-8eb3-21ba0cab9123.json\n"
     ]
    },
    {
     "ename": "SystemExit",
     "evalue": "2",
     "output_type": "error",
     "traceback": [
      "An exception has occurred, use %tb to see the full traceback.\n",
      "\u001b[0;31mSystemExit\u001b[0m\u001b[0;31m:\u001b[0m 2\n"
     ]
    },
    {
     "name": "stderr",
     "output_type": "stream",
     "text": [
      "/home/pai/lib/python3.9/site-packages/IPython/core/interactiveshell.py:3513: UserWarning: To exit: use 'exit', 'quit', or Ctrl-D.\n",
      "  warn(\"To exit: use 'exit', 'quit', or Ctrl-D.\", stacklevel=1)\n"
     ]
    }
   ],
   "source": [
    "audio_path = '/mnt/workspace/angry.wav'\n",
    "config = utils.parse_opt()\n",
    "model = models.load(config)\n",
    "\n",
    "if config.feature_method == 'o':\n",
    "        # 一个玄学 bug 的暂时性解决方案\n",
    "    of.get_data(config, audio_path, train=False)\n",
    "    test_feature = of.load_feature(config, train=False)\n",
    "elif config.feature_method == 'l':\n",
    "    test_feature = lf.get_data(config, audio_path, train=False)\n",
    "\n",
    "result = model.predict(test_feature)\n",
    "result_prob = model.predict_proba(test_feature)"
   ]
  },
  {
   "cell_type": "markdown",
   "metadata": {},
   "source": [
    "预测结果"
   ]
  },
  {
   "cell_type": "code",
   "execution_count": null,
   "metadata": {},
   "outputs": [],
   "source": [
    "    print('Recogntion: ', config.class_labels[int(result)])\n",
    "    print('Probability: ', result_prob)\n",
    "    utils.radar(result_prob, config.class_labels)"
   ]
  }
 ],
 "metadata": {
  "kernelspec": {
   "display_name": "Python 3 (ipykernel)",
   "language": "python",
   "name": "python3"
  },
  "language_info": {
   "codemirror_mode": {
    "name": "ipython",
    "version": 3
   },
   "file_extension": ".py",
   "mimetype": "text/x-python",
   "name": "python",
   "nbconvert_exporter": "python",
   "pygments_lexer": "ipython3",
   "version": "3.9.15"
  }
 },
 "nbformat": 4,
 "nbformat_minor": 4
}
